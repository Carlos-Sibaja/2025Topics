{
 "cells": [
  {
   "cell_type": "code",
   "execution_count": 4,
   "id": "b53f8ef9",
   "metadata": {},
   "outputs": [
    {
     "data": {
      "application/vnd.microsoft.datawrangler.viewer.v0+json": {
       "columns": [
        {
         "name": "index",
         "rawType": "int64",
         "type": "integer"
        },
        {
         "name": "title",
         "rawType": "object",
         "type": "string"
        },
        {
         "name": "description",
         "rawType": "object",
         "type": "string"
        },
        {
         "name": "url",
         "rawType": "object",
         "type": "string"
        },
        {
         "name": "published_date",
         "rawType": "object",
         "type": "string"
        },
        {
         "name": "source",
         "rawType": "object",
         "type": "string"
        }
       ],
       "conversionMethod": "pd.DataFrame",
       "ref": "b79b937a-324b-49fb-a5cc-84a8db2262f4",
       "rows": [
        [
         "0",
         "Trump’s Abuse of Recount Funds Shows the Need for Clear Regulations - Campaign Legal Center",
         "Trump’s Abuse of Recount Funds Shows the Need for Clear Regulations  Campaign Legal Center",
         "https://news.google.com/rss/articles/CBMikgFBVV95cUxOSUhVbXVnendLSHRWRmpWR3ZZLW9RSzd6YWhjdlNTdnVmeEZVNHN5ZnNwS0FGMjJud1RDVVdOUzdZVGJVc2sxdmVpVGdITUVnLW1DWVhzOE4ydU14MzloWl9TeHZMNElHdXdhVVh3a01wU0pXYV9FZzNRQ2hkLVg3YzVCc3hDNEJnbTBFdzNUZXRnUQ?oc=5&hl=en-CA&gl=CA&ceid=CA:en",
         "Tue, 31 Jan 2023 08:00:00 GMT",
         "{'href': 'https://campaignlegal.org', 'title': 'Campaign Legal Center'}"
        ],
        [
         "1",
         "Trump criticizes federal response to Ohio train derailment - AP News",
         "Trump criticizes federal response to Ohio train derailment  AP News",
         "https://news.google.com/rss/articles/CBMiugFBVV95cUxNRjduZW1VaTNhNWdKUmF3eHlhcE9LR2hhTlRTTXB1MFpLelR5VU9VYThTSjRLRVQ3dmMzdUdsVUFyaGp5a1Fvci1ZRHBjbXhFQWM0SFUyRlZlOGJqQ1drajY3dmdZTDFIWWVKc2ZUQUhvaUhkaGxGR0hheHZwX2FKOUdjYnEyUUVyb3Vqb1EwVWk0M3lkd0NPQnlHYTh1WHhKb0dSU3BYcVRJU0hua1I1a2sxOEdZREo1U3c?oc=5&hl=en-CA&gl=CA&ceid=CA:en",
         "Wed, 22 Feb 2023 08:00:00 GMT",
         "{'href': 'https://apnews.com', 'title': 'AP News'}"
        ],
        [
         "2",
         "Fani Willis is likely going to indict Trump soon. Here’s what that looks like: - CREW - Citizens for Responsibility and Ethics in Washington",
         "Fani Willis is likely going to indict Trump soon. Here’s what that looks like: - CREW  Citizens for Responsibility and Ethics in Washington",
         "https://news.google.com/rss/articles/CBMi1gFBVV95cUxOem9rbllsTEliMWNCNnhMZ19ETzhZTGRQSjVacWtzYTBLN2FoQzkzY0UyV0cyd0V3dGVKT0xRY29HU2lpdURvcF9HQTgtWDF0SS0zcmd4QmZ2ZnJKa2tKZVpSaXdyMm5wZXhsblVLanlwV0E5UGNOdmNaYUdXa1E5dEx0cDF6WXhGVC1zbW8xMHFGQ0hrN1h5dkJLQlUxNlRoTWw5aFlqTnk5Q21ZZHhxd0JSeUFGMi02ajgyRU1ENWJJYk9faS1aQnNkb2ZIeGJlZmx2anR3?oc=5&hl=en-CA&gl=CA&ceid=CA:en",
         "Mon, 30 Jan 2023 08:00:00 GMT",
         "{'href': 'https://www.citizensforethics.org', 'title': 'Citizens for Responsibility and Ethics in Washington'}"
        ],
        [
         "3",
         "Trump, after reported subpoena, defends keeping classified folders - Reuters",
         "Trump, after reported subpoena, defends keeping classified folders  Reuters",
         "https://news.google.com/rss/articles/CBMirgFBVV95cUxNMkxPaERpWWVYLTN2cU10VVkyQlVLYmFVb1lNbU9UbE1GVjZMWVlSbHh0YjJLVTBHYTBSQ0tBZlhWQXpMdzlPcjV3Y3NRTTViQnBWRS1YUkZwNWhmRlU2TDItbE90cmhjOHN3RGhVNUI2WGlwdUloYWJPdnRBZ0lQZzUxMEQwVVU5WTFYTXhVeVE0ZlRaN0tienRLWXJPcmR6ZWlOWU0yMzVBcVlSUnc?oc=5&hl=en-CA&gl=CA&ceid=CA:en",
         "Tue, 14 Feb 2023 08:00:00 GMT",
         "{'href': 'https://www.reuters.com', 'title': 'Reuters'}"
        ],
        [
         "4",
         "Trump vows to 'stop' gender-affirming care for minors if re-elected president - NBC News",
         "Trump vows to 'stop' gender-affirming care for minors if re-elected president  NBC News",
         "https://news.google.com/rss/articles/CBMivwFBVV95cUxNbEU2TUtiVDlSMzVSVTJxbGpEUE8zNGRPVFZVQ0FKWjN5UVF1bjVsUVp0YlpRMU16UzlfZkxOZlVEbmhtZUx1UHVXTklOcDlacmNoMlRfTk1Obi1UN2pBQXoyZ2tiM1hWeXQ0Ql9xdjVveWV2WFdwSUhSa1ZhX1diWHZxX2Nsd1VYcl9OZ1ZZeEdOSUtsQkpub1o2STRHZ1VnTlFxVjlUMnRGLURON1ZDRUFmbFNpQV85X0NiTDhtd9IBVEFVX3lxTE1WWTR3SDRJTzZkNEdmWV9jNGh5d25kQS1UaDI5Ym9TbERsXzcwYWRWeVNOallESGgybW5hOTBWR2lBZG55MmlESW1ua3BhTjRnWS1CNg?oc=5&hl=en-CA&gl=CA&ceid=CA:en",
         "Tue, 31 Jan 2023 08:00:00 GMT",
         "{'href': 'https://www.nbcnews.com', 'title': 'NBC News'}"
        ]
       ],
       "shape": {
        "columns": 5,
        "rows": 5
       }
      },
      "text/html": [
       "<div>\n",
       "<style scoped>\n",
       "    .dataframe tbody tr th:only-of-type {\n",
       "        vertical-align: middle;\n",
       "    }\n",
       "\n",
       "    .dataframe tbody tr th {\n",
       "        vertical-align: top;\n",
       "    }\n",
       "\n",
       "    .dataframe thead th {\n",
       "        text-align: right;\n",
       "    }\n",
       "</style>\n",
       "<table border=\"1\" class=\"dataframe\">\n",
       "  <thead>\n",
       "    <tr style=\"text-align: right;\">\n",
       "      <th></th>\n",
       "      <th>title</th>\n",
       "      <th>description</th>\n",
       "      <th>url</th>\n",
       "      <th>published_date</th>\n",
       "      <th>source</th>\n",
       "    </tr>\n",
       "  </thead>\n",
       "  <tbody>\n",
       "    <tr>\n",
       "      <th>0</th>\n",
       "      <td>Trump’s Abuse of Recount Funds Shows the Need ...</td>\n",
       "      <td>Trump’s Abuse of Recount Funds Shows the Need ...</td>\n",
       "      <td>https://news.google.com/rss/articles/CBMikgFBV...</td>\n",
       "      <td>Tue, 31 Jan 2023 08:00:00 GMT</td>\n",
       "      <td>{'href': 'https://campaignlegal.org', 'title':...</td>\n",
       "    </tr>\n",
       "    <tr>\n",
       "      <th>1</th>\n",
       "      <td>Trump criticizes federal response to Ohio trai...</td>\n",
       "      <td>Trump criticizes federal response to Ohio trai...</td>\n",
       "      <td>https://news.google.com/rss/articles/CBMiugFBV...</td>\n",
       "      <td>Wed, 22 Feb 2023 08:00:00 GMT</td>\n",
       "      <td>{'href': 'https://apnews.com', 'title': 'AP Ne...</td>\n",
       "    </tr>\n",
       "    <tr>\n",
       "      <th>2</th>\n",
       "      <td>Fani Willis is likely going to indict Trump so...</td>\n",
       "      <td>Fani Willis is likely going to indict Trump so...</td>\n",
       "      <td>https://news.google.com/rss/articles/CBMi1gFBV...</td>\n",
       "      <td>Mon, 30 Jan 2023 08:00:00 GMT</td>\n",
       "      <td>{'href': 'https://www.citizensforethics.org', ...</td>\n",
       "    </tr>\n",
       "    <tr>\n",
       "      <th>3</th>\n",
       "      <td>Trump, after reported subpoena, defends keepin...</td>\n",
       "      <td>Trump, after reported subpoena, defends keepin...</td>\n",
       "      <td>https://news.google.com/rss/articles/CBMirgFBV...</td>\n",
       "      <td>Tue, 14 Feb 2023 08:00:00 GMT</td>\n",
       "      <td>{'href': 'https://www.reuters.com', 'title': '...</td>\n",
       "    </tr>\n",
       "    <tr>\n",
       "      <th>4</th>\n",
       "      <td>Trump vows to 'stop' gender-affirming care for...</td>\n",
       "      <td>Trump vows to 'stop' gender-affirming care for...</td>\n",
       "      <td>https://news.google.com/rss/articles/CBMivwFBV...</td>\n",
       "      <td>Tue, 31 Jan 2023 08:00:00 GMT</td>\n",
       "      <td>{'href': 'https://www.nbcnews.com', 'title': '...</td>\n",
       "    </tr>\n",
       "  </tbody>\n",
       "</table>\n",
       "</div>"
      ],
      "text/plain": [
       "                                               title  \\\n",
       "0  Trump’s Abuse of Recount Funds Shows the Need ...   \n",
       "1  Trump criticizes federal response to Ohio trai...   \n",
       "2  Fani Willis is likely going to indict Trump so...   \n",
       "3  Trump, after reported subpoena, defends keepin...   \n",
       "4  Trump vows to 'stop' gender-affirming care for...   \n",
       "\n",
       "                                         description  \\\n",
       "0  Trump’s Abuse of Recount Funds Shows the Need ...   \n",
       "1  Trump criticizes federal response to Ohio trai...   \n",
       "2  Fani Willis is likely going to indict Trump so...   \n",
       "3  Trump, after reported subpoena, defends keepin...   \n",
       "4  Trump vows to 'stop' gender-affirming care for...   \n",
       "\n",
       "                                                 url  \\\n",
       "0  https://news.google.com/rss/articles/CBMikgFBV...   \n",
       "1  https://news.google.com/rss/articles/CBMiugFBV...   \n",
       "2  https://news.google.com/rss/articles/CBMi1gFBV...   \n",
       "3  https://news.google.com/rss/articles/CBMirgFBV...   \n",
       "4  https://news.google.com/rss/articles/CBMivwFBV...   \n",
       "\n",
       "                  published_date  \\\n",
       "0  Tue, 31 Jan 2023 08:00:00 GMT   \n",
       "1  Wed, 22 Feb 2023 08:00:00 GMT   \n",
       "2  Mon, 30 Jan 2023 08:00:00 GMT   \n",
       "3  Tue, 14 Feb 2023 08:00:00 GMT   \n",
       "4  Tue, 31 Jan 2023 08:00:00 GMT   \n",
       "\n",
       "                                              source  \n",
       "0  {'href': 'https://campaignlegal.org', 'title':...  \n",
       "1  {'href': 'https://apnews.com', 'title': 'AP Ne...  \n",
       "2  {'href': 'https://www.citizensforethics.org', ...  \n",
       "3  {'href': 'https://www.reuters.com', 'title': '...  \n",
       "4  {'href': 'https://www.nbcnews.com', 'title': '...  "
      ]
     },
     "execution_count": 4,
     "metadata": {},
     "output_type": "execute_result"
    }
   ],
   "source": [
    "import pandas as pd\n",
    "import os\n",
    "import numpy as np\n",
    "\n",
    "# open data/scraped_news.csv\n",
    "df = pd.read_csv(os.path.join('data', 'scraped_news.csv'))\n",
    "\n",
    "df.head()"
   ]
  },
  {
   "cell_type": "code",
   "execution_count": 5,
   "id": "2c333b01",
   "metadata": {},
   "outputs": [
    {
     "name": "stdout",
     "output_type": "stream",
     "text": [
      "month\n",
      "2023-01     30\n",
      "2023-02     70\n",
      "2023-03     31\n",
      "2023-04     69\n",
      "2023-05      5\n",
      "2023-06     95\n",
      "2023-07     18\n",
      "2023-08     82\n",
      "2023-09     39\n",
      "2023-10     61\n",
      "2023-11     43\n",
      "2023-12     57\n",
      "2024-01     50\n",
      "2024-02     47\n",
      "2024-03     42\n",
      "2024-04     61\n",
      "2024-05     50\n",
      "2024-06     50\n",
      "2024-07     66\n",
      "2024-08     34\n",
      "2024-09     46\n",
      "2024-10     54\n",
      "2024-11     82\n",
      "2024-12     18\n",
      "2025-01    100\n",
      "2025-02    100\n",
      "2025-03    100\n",
      "Freq: M, Name: count, dtype: int64\n"
     ]
    }
   ],
   "source": [
    "# load publised_date column, convert to datetime\n",
    "df['published_date'] = pd.to_datetime(df['published_date'], errors='coerce')\n",
    "\n",
    "# count the number of articles per month\n",
    "df['month'] = df['published_date'].dt.to_period('M')\n",
    "articles_per_month = df['month'].value_counts().sort_index()\n",
    "print(articles_per_month)"
   ]
  },
  {
   "cell_type": "code",
   "execution_count": 6,
   "id": "01051b05",
   "metadata": {},
   "outputs": [
    {
     "data": {
      "image/png": "[encoded data removed]",
      "text/plain": [
       "<Figure size 1200x600 with 1 Axes>"
      ]
     },
     "metadata": {},
     "output_type": "display_data"
    }
   ],
   "source": [
    "# Plot articles per month distribution\n",
    "import matplotlib.pyplot as plt \n",
    "import seaborn as sns\n",
    "sns.set(style=\"whitegrid\")\n",
    "plt.figure(figsize=(12, 6))\n",
    "sns.barplot(x=articles_per_month.index.astype(str), y=articles_per_month.values)\n",
    "plt.xticks(rotation=45)\n",
    "plt.xlabel('Month')\n",
    "plt.ylabel('Number of Articles')\n",
    "plt.title('Number of Articles per Month')\n",
    "plt.tight_layout()\n",
    "plt.savefig(os.path.join('images', 'articles_per_month.png'))\n",
    "plt.show()"
   ]
  },
  {
   "cell_type": "code",
   "execution_count": 7,
   "id": "5d413575",
   "metadata": {},
   "outputs": [],
   "source": [
    "from textblob import TextBlob\n",
    "from nltk.corpus import stopwords"
   ]
  },
  {
   "cell_type": "code",
   "execution_count": 8,
   "id": "9a4ade3b",
   "metadata": {},
   "outputs": [],
   "source": [
    "def get_sentiment(text):\n",
    "    return TextBlob(text).sentiment.polarity\n",
    "\n",
    "# df['title_sentiment'] = df['title'].apply(get_sentiment)\n",
    "df['description_sentiment'] = df['description'].apply(get_sentiment)"
   ]
  },
  {
   "cell_type": "code",
   "execution_count": 9,
   "id": "a642cd04",
   "metadata": {},
   "outputs": [
    {
     "data": {
      "image/png": "[encoded data removed]",
      "text/plain": [
       "<Figure size 1200x600 with 1 Axes>"
      ]
     },
     "metadata": {},
     "output_type": "display_data"
    }
   ],
   "source": [
    "def plot_sentiment_distribution(df, column, title):\n",
    "    plt.figure(figsize=(12, 6))\n",
    "    sns.histplot(df[column], bins=20, kde=True)\n",
    "    plt.xlabel('Sentiment Polarity')\n",
    "    plt.ylabel('Frequency')\n",
    "    plt.title(title)\n",
    "    plt.tight_layout()\n",
    "    plt.savefig(os.path.join('images', f'{column}_sentiment_distribution.png'))\n",
    "    plt.show()\n",
    "\n",
    "plot_sentiment_distribution(df, 'description_sentiment', 'Sentiment Distribution of News Descriptions')"
   ]
  },
  {
   "cell_type": "code",
   "execution_count": 10,
   "id": "99b0adba",
   "metadata": {},
   "outputs": [
    {
     "name": "stderr",
     "output_type": "stream",
     "text": [
      "[nltk_data] Downloading package vader_lexicon to\n",
      "[nltk_data]     /Users/robertoeg/nltk_data...\n",
      "[nltk_data]   Package vader_lexicon is already up-to-date!\n"
     ]
    },
    {
     "data": {
      "text/plain": [
       "True"
      ]
     },
     "execution_count": 10,
     "metadata": {},
     "output_type": "execute_result"
    }
   ],
   "source": [
    "from textblob import TextBlob\n",
    "from nltk.sentiment.vader import SentimentIntensityAnalyzer\n",
    "import nltk\n",
    "nltk.download('vader_lexicon')"
   ]
  },
  {
   "cell_type": "code",
   "execution_count": 11,
   "id": "48e5456c",
   "metadata": {},
   "outputs": [],
   "source": [
    "# initialize the sentiment analyzer\n",
    "sia = SentimentIntensityAnalyzer()\n",
    "# define a function to get the sentiment of a text\n",
    "def get_sentiment(text):\n",
    "    # get the sentiment polarity\n",
    "    blob = TextBlob(text)\n",
    "    sentiment = blob.sentiment.polarity\n",
    "    # get the sentiment score\n",
    "    sentiment_score = sia.polarity_scores(text)\n",
    "    return sentiment, sentiment_score['compound']\n",
    "\n",
    "# apply the function to the text column\n",
    "df['sentiment'], df['sentiment_score'] = zip(*df['description'].apply(get_sentiment))"
   ]
  },
  {
   "cell_type": "code",
   "execution_count": 12,
   "id": "a4da7714",
   "metadata": {},
   "outputs": [
    {
     "data": {
      "image/png": "[encoded data removed]",
      "text/plain": [
       "<Figure size 1200x600 with 1 Axes>"
      ]
     },
     "metadata": {},
     "output_type": "display_data"
    }
   ],
   "source": [
    "# plot sentiment distribution\n",
    "def plot_sentiment_distribution(df, column, title):\n",
    "    plt.figure(figsize=(12, 6))\n",
    "    sns.histplot(df[column], bins=20, kde=True)\n",
    "    plt.xlabel('Sentiment Polarity')\n",
    "    plt.ylabel('Frequency')\n",
    "    plt.title(title)\n",
    "    plt.tight_layout()\n",
    "    plt.savefig(os.path.join('images', f'{column}_sentiment_distribution.png'))\n",
    "    plt.show()\n",
    "\n",
    "plot_sentiment_distribution(df, 'sentiment_score', 'Sentiment Distribution of News Descriptions')"
   ]
  },
  {
   "cell_type": "code",
   "execution_count": 13,
   "id": "8d5a0c44",
   "metadata": {},
   "outputs": [
    {
     "data": {
      "application/vnd.microsoft.datawrangler.viewer.v0+json": {
       "columns": [
        {
         "name": "index",
         "rawType": "int64",
         "type": "integer"
        },
        {
         "name": "title",
         "rawType": "object",
         "type": "string"
        },
        {
         "name": "description",
         "rawType": "object",
         "type": "string"
        },
        {
         "name": "url",
         "rawType": "object",
         "type": "string"
        },
        {
         "name": "published_date",
         "rawType": "datetime64[ns]",
         "type": "datetime"
        },
        {
         "name": "source",
         "rawType": "object",
         "type": "string"
        },
        {
         "name": "month",
         "rawType": "period[M]",
         "type": "unknown"
        },
        {
         "name": "description_sentiment",
         "rawType": "float64",
         "type": "float"
        },
        {
         "name": "sentiment",
         "rawType": "float64",
         "type": "float"
        },
        {
         "name": "sentiment_score",
         "rawType": "float64",
         "type": "float"
        }
       ],
       "conversionMethod": "pd.DataFrame",
       "ref": "7c363f9c-d232-4853-a4d8-4f9e68afb80a",
       "rows": [
        [
         "0",
         "Trump’s Abuse of Recount Funds Shows the Need for Clear Regulations - Campaign Legal Center",
         "Trump’s Abuse of Recount Funds Shows the Need for Clear Regulations  Campaign Legal Center",
         "https://news.google.com/rss/articles/CBMikgFBVV95cUxOSUhVbXVnendLSHRWRmpWR3ZZLW9RSzd6YWhjdlNTdnVmeEZVNHN5ZnNwS0FGMjJud1RDVVdOUzdZVGJVc2sxdmVpVGdITUVnLW1DWVhzOE4ydU14MzloWl9TeHZMNElHdXdhVVh3a01wU0pXYV9FZzNRQ2hkLVg3YzVCc3hDNEJnbTBFdzNUZXRnUQ?oc=5&hl=en-CA&gl=CA&ceid=CA:en",
         "2023-01-31 08:00:00",
         "{'href': 'https://campaignlegal.org', 'title': 'Campaign Legal Center'}",
         "2023-01",
         "0.06666666666666667",
         "0.06666666666666667",
         "-0.2732"
        ],
        [
         "1",
         "Trump criticizes federal response to Ohio train derailment - AP News",
         "Trump criticizes federal response to Ohio train derailment  AP News",
         "https://news.google.com/rss/articles/CBMiugFBVV95cUxNRjduZW1VaTNhNWdKUmF3eHlhcE9LR2hhTlRTTXB1MFpLelR5VU9VYThTSjRLRVQ3dmMzdUdsVUFyaGp5a1Fvci1ZRHBjbXhFQWM0SFUyRlZlOGJqQ1drajY3dmdZTDFIWWVKc2ZUQUhvaUhkaGxGR0hheHZwX2FKOUdjYnEyUUVyb3Vqb1EwVWk0M3lkd0NPQnlHYTh1WHhKb0dSU3BYcVRJU0hua1I1a2sxOEdZREo1U3c?oc=5&hl=en-CA&gl=CA&ceid=CA:en",
         "2023-02-22 08:00:00",
         "{'href': 'https://apnews.com', 'title': 'AP News'}",
         "2023-02",
         "0.0",
         "0.0",
         "-0.34"
        ],
        [
         "2",
         "Fani Willis is likely going to indict Trump soon. Here’s what that looks like: - CREW - Citizens for Responsibility and Ethics in Washington",
         "Fani Willis is likely going to indict Trump soon. Here’s what that looks like: - CREW  Citizens for Responsibility and Ethics in Washington",
         "https://news.google.com/rss/articles/CBMi1gFBVV95cUxOem9rbllsTEliMWNCNnhMZ19ETzhZTGRQSjVacWtzYTBLN2FoQzkzY0UyV0cyd0V3dGVKT0xRY29HU2lpdURvcF9HQTgtWDF0SS0zcmd4QmZ2ZnJKa2tKZVpSaXdyMm5wZXhsblVLanlwV0E5UGNOdmNaYUdXa1E5dEx0cDF6WXhGVC1zbW8xMHFGQ0hrN1h5dkJLQlUxNlRoTWw5aFlqTnk5Q21ZZHhxd0JSeUFGMi02ajgyRU1ENWJJYk9faS1aQnNkb2ZIeGJlZmx2anR3?oc=5&hl=en-CA&gl=CA&ceid=CA:en",
         "2023-01-30 08:00:00",
         "{'href': 'https://www.citizensforethics.org', 'title': 'Citizens for Responsibility and Ethics in Washington'}",
         "2023-01",
         "0.0",
         "0.0",
         "0.3612"
        ],
        [
         "3",
         "Trump, after reported subpoena, defends keeping classified folders - Reuters",
         "Trump, after reported subpoena, defends keeping classified folders  Reuters",
         "https://news.google.com/rss/articles/CBMirgFBVV95cUxNMkxPaERpWWVYLTN2cU10VVkyQlVLYmFVb1lNbU9UbE1GVjZMWVlSbHh0YjJLVTBHYTBSQ0tBZlhWQXpMdzlPcjV3Y3NRTTViQnBWRS1YUkZwNWhmRlU2TDItbE90cmhjOHN3RGhVNUI2WGlwdUloYWJPdnRBZ0lQZzUxMEQwVVU5WTFYTXhVeVE0ZlRaN0tienRLWXJPcmR6ZWlOWU0yMzVBcVlSUnc?oc=5&hl=en-CA&gl=CA&ceid=CA:en",
         "2023-02-14 08:00:00",
         "{'href': 'https://www.reuters.com', 'title': 'Reuters'}",
         "2023-02",
         "0.0",
         "0.0",
         "0.0"
        ],
        [
         "4",
         "Trump vows to 'stop' gender-affirming care for minors if re-elected president - NBC News",
         "Trump vows to 'stop' gender-affirming care for minors if re-elected president  NBC News",
         "https://news.google.com/rss/articles/CBMivwFBVV95cUxNbEU2TUtiVDlSMzVSVTJxbGpEUE8zNGRPVFZVQ0FKWjN5UVF1bjVsUVp0YlpRMU16UzlfZkxOZlVEbmhtZUx1UHVXTklOcDlacmNoMlRfTk1Obi1UN2pBQXoyZ2tiM1hWeXQ0Ql9xdjVveWV2WFdwSUhSa1ZhX1diWHZxX2Nsd1VYcl9OZ1ZZeEdOSUtsQkpub1o2STRHZ1VnTlFxVjlUMnRGLURON1ZDRUFmbFNpQV85X0NiTDhtd9IBVEFVX3lxTE1WWTR3SDRJTzZkNEdmWV9jNGh5d25kQS1UaDI5Ym9TbERsXzcwYWRWeVNOallESGgybW5hOTBWR2lBZG55MmlESW1ua3BhTjRnWS1CNg?oc=5&hl=en-CA&gl=CA&ceid=CA:en",
         "2023-01-31 08:00:00",
         "{'href': 'https://www.nbcnews.com', 'title': 'NBC News'}",
         "2023-01",
         "0.0",
         "0.0",
         "0.4939"
        ]
       ],
       "shape": {
        "columns": 9,
        "rows": 5
       }
      },
      "text/html": [
       "<div>\n",
       "<style scoped>\n",
       "    .dataframe tbody tr th:only-of-type {\n",
       "        vertical-align: middle;\n",
       "    }\n",
       "\n",
       "    .dataframe tbody tr th {\n",
       "        vertical-align: top;\n",
       "    }\n",
       "\n",
       "    .dataframe thead th {\n",
       "        text-align: right;\n",
       "    }\n",
       "</style>\n",
       "<table border=\"1\" class=\"dataframe\">\n",
       "  <thead>\n",
       "    <tr style=\"text-align: right;\">\n",
       "      <th></th>\n",
       "      <th>title</th>\n",
       "      <th>description</th>\n",
       "      <th>url</th>\n",
       "      <th>published_date</th>\n",
       "      <th>source</th>\n",
       "      <th>month</th>\n",
       "      <th>description_sentiment</th>\n",
       "      <th>sentiment</th>\n",
       "      <th>sentiment_score</th>\n",
       "    </tr>\n",
       "  </thead>\n",
       "  <tbody>\n",
       "    <tr>\n",
       "      <th>0</th>\n",
       "      <td>Trump’s Abuse of Recount Funds Shows the Need ...</td>\n",
       "      <td>Trump’s Abuse of Recount Funds Shows the Need ...</td>\n",
       "      <td>https://news.google.com/rss/articles/CBMikgFBV...</td>\n",
       "      <td>2023-01-31 08:00:00</td>\n",
       "      <td>{'href': 'https://campaignlegal.org', 'title':...</td>\n",
       "      <td>2023-01</td>\n",
       "      <td>0.066667</td>\n",
       "      <td>0.066667</td>\n",
       "      <td>-0.2732</td>\n",
       "    </tr>\n",
       "    <tr>\n",
       "      <th>1</th>\n",
       "      <td>Trump criticizes federal response to Ohio trai...</td>\n",
       "      <td>Trump criticizes federal response to Ohio trai...</td>\n",
       "      <td>https://news.google.com/rss/articles/CBMiugFBV...</td>\n",
       "      <td>2023-02-22 08:00:00</td>\n",
       "      <td>{'href': 'https://apnews.com', 'title': 'AP Ne...</td>\n",
       "      <td>2023-02</td>\n",
       "      <td>0.000000</td>\n",
       "      <td>0.000000</td>\n",
       "      <td>-0.3400</td>\n",
       "    </tr>\n",
       "    <tr>\n",
       "      <th>2</th>\n",
       "      <td>Fani Willis is likely going to indict Trump so...</td>\n",
       "      <td>Fani Willis is likely going to indict Trump so...</td>\n",
       "      <td>https://news.google.com/rss/articles/CBMi1gFBV...</td>\n",
       "      <td>2023-01-30 08:00:00</td>\n",
       "      <td>{'href': 'https://www.citizensforethics.org', ...</td>\n",
       "      <td>2023-01</td>\n",
       "      <td>0.000000</td>\n",
       "      <td>0.000000</td>\n",
       "      <td>0.3612</td>\n",
       "    </tr>\n",
       "    <tr>\n",
       "      <th>3</th>\n",
       "      <td>Trump, after reported subpoena, defends keepin...</td>\n",
       "      <td>Trump, after reported subpoena, defends keepin...</td>\n",
       "      <td>https://news.google.com/rss/articles/CBMirgFBV...</td>\n",
       "      <td>2023-02-14 08:00:00</td>\n",
       "      <td>{'href': 'https://www.reuters.com', 'title': '...</td>\n",
       "      <td>2023-02</td>\n",
       "      <td>0.000000</td>\n",
       "      <td>0.000000</td>\n",
       "      <td>0.0000</td>\n",
       "    </tr>\n",
       "    <tr>\n",
       "      <th>4</th>\n",
       "      <td>Trump vows to 'stop' gender-affirming care for...</td>\n",
       "      <td>Trump vows to 'stop' gender-affirming care for...</td>\n",
       "      <td>https://news.google.com/rss/articles/CBMivwFBV...</td>\n",
       "      <td>2023-01-31 08:00:00</td>\n",
       "      <td>{'href': 'https://www.nbcnews.com', 'title': '...</td>\n",
       "      <td>2023-01</td>\n",
       "      <td>0.000000</td>\n",
       "      <td>0.000000</td>\n",
       "      <td>0.4939</td>\n",
       "    </tr>\n",
       "  </tbody>\n",
       "</table>\n",
       "</div>"
      ],
      "text/plain": [
       "                                               title  \\\n",
       "0  Trump’s Abuse of Recount Funds Shows the Need ...   \n",
       "1  Trump criticizes federal response to Ohio trai...   \n",
       "2  Fani Willis is likely going to indict Trump so...   \n",
       "3  Trump, after reported subpoena, defends keepin...   \n",
       "4  Trump vows to 'stop' gender-affirming care for...   \n",
       "\n",
       "                                         description  \\\n",
       "0  Trump’s Abuse of Recount Funds Shows the Need ...   \n",
       "1  Trump criticizes federal response to Ohio trai...   \n",
       "2  Fani Willis is likely going to indict Trump so...   \n",
       "3  Trump, after reported subpoena, defends keepin...   \n",
       "4  Trump vows to 'stop' gender-affirming care for...   \n",
       "\n",
       "                                                 url      published_date  \\\n",
       "0  https://news.google.com/rss/articles/CBMikgFBV... 2023-01-31 08:00:00   \n",
       "1  https://news.google.com/rss/articles/CBMiugFBV... 2023-02-22 08:00:00   \n",
       "2  https://news.google.com/rss/articles/CBMi1gFBV... 2023-01-30 08:00:00   \n",
       "3  https://news.google.com/rss/articles/CBMirgFBV... 2023-02-14 08:00:00   \n",
       "4  https://news.google.com/rss/articles/CBMivwFBV... 2023-01-31 08:00:00   \n",
       "\n",
       "                                              source    month  \\\n",
       "0  {'href': 'https://campaignlegal.org', 'title':...  2023-01   \n",
       "1  {'href': 'https://apnews.com', 'title': 'AP Ne...  2023-02   \n",
       "2  {'href': 'https://www.citizensforethics.org', ...  2023-01   \n",
       "3  {'href': 'https://www.reuters.com', 'title': '...  2023-02   \n",
       "4  {'href': 'https://www.nbcnews.com', 'title': '...  2023-01   \n",
       "\n",
       "   description_sentiment  sentiment  sentiment_score  \n",
       "0               0.066667   0.066667          -0.2732  \n",
       "1               0.000000   0.000000          -0.3400  \n",
       "2               0.000000   0.000000           0.3612  \n",
       "3               0.000000   0.000000           0.0000  \n",
       "4               0.000000   0.000000           0.4939  "
      ]
     },
     "execution_count": 13,
     "metadata": {},
     "output_type": "execute_result"
    }
   ],
   "source": [
    "df.head()"
   ]
  },
  {
   "cell_type": "code",
   "execution_count": 14,
   "id": "ee1523c0",
   "metadata": {},
   "outputs": [
    {
     "data": {
      "application/vnd.microsoft.datawrangler.viewer.v0+json": {
       "columns": [
        {
         "name": "index",
         "rawType": "int64",
         "type": "integer"
        },
        {
         "name": "title",
         "rawType": "object",
         "type": "string"
        },
        {
         "name": "description",
         "rawType": "object",
         "type": "string"
        },
        {
         "name": "url",
         "rawType": "object",
         "type": "string"
        },
        {
         "name": "published_date",
         "rawType": "datetime64[ns]",
         "type": "datetime"
        },
        {
         "name": "source",
         "rawType": "object",
         "type": "string"
        },
        {
         "name": "month",
         "rawType": "period[M]",
         "type": "unknown"
        },
        {
         "name": "description_sentiment",
         "rawType": "float64",
         "type": "float"
        },
        {
         "name": "sentiment",
         "rawType": "float64",
         "type": "float"
        },
        {
         "name": "sentiment_score",
         "rawType": "float64",
         "type": "float"
        },
        {
         "name": "news_source",
         "rawType": "object",
         "type": "string"
        }
       ],
       "conversionMethod": "pd.DataFrame",
       "ref": "89d14d31-f4e4-4d02-a50a-f85ad2d60b69",
       "rows": [
        [
         "0",
         "Trump’s Abuse of Recount Funds Shows the Need for Clear Regulations - Campaign Legal Center",
         "Trump’s Abuse of Recount Funds Shows the Need for Clear Regulations  Campaign Legal Center",
         "https://news.google.com/rss/articles/CBMikgFBVV95cUxOSUhVbXVnendLSHRWRmpWR3ZZLW9RSzd6YWhjdlNTdnVmeEZVNHN5ZnNwS0FGMjJud1RDVVdOUzdZVGJVc2sxdmVpVGdITUVnLW1DWVhzOE4ydU14MzloWl9TeHZMNElHdXdhVVh3a01wU0pXYV9FZzNRQ2hkLVg3YzVCc3hDNEJnbTBFdzNUZXRnUQ?oc=5&hl=en-CA&gl=CA&ceid=CA:en",
         "2023-01-31 08:00:00",
         "{'href': 'https://campaignlegal.org', 'title': 'Campaign Legal Center'}",
         "2023-01",
         "0.06666666666666667",
         "0.06666666666666667",
         "-0.2732",
         "Campaign Legal Center"
        ],
        [
         "1",
         "Trump criticizes federal response to Ohio train derailment - AP News",
         "Trump criticizes federal response to Ohio train derailment  AP News",
         "https://news.google.com/rss/articles/CBMiugFBVV95cUxNRjduZW1VaTNhNWdKUmF3eHlhcE9LR2hhTlRTTXB1MFpLelR5VU9VYThTSjRLRVQ3dmMzdUdsVUFyaGp5a1Fvci1ZRHBjbXhFQWM0SFUyRlZlOGJqQ1drajY3dmdZTDFIWWVKc2ZUQUhvaUhkaGxGR0hheHZwX2FKOUdjYnEyUUVyb3Vqb1EwVWk0M3lkd0NPQnlHYTh1WHhKb0dSU3BYcVRJU0hua1I1a2sxOEdZREo1U3c?oc=5&hl=en-CA&gl=CA&ceid=CA:en",
         "2023-02-22 08:00:00",
         "{'href': 'https://apnews.com', 'title': 'AP News'}",
         "2023-02",
         "0.0",
         "0.0",
         "-0.34",
         "AP News"
        ],
        [
         "2",
         "Fani Willis is likely going to indict Trump soon. Here’s what that looks like: - CREW - Citizens for Responsibility and Ethics in Washington",
         "Fani Willis is likely going to indict Trump soon. Here’s what that looks like: - CREW  Citizens for Responsibility and Ethics in Washington",
         "https://news.google.com/rss/articles/CBMi1gFBVV95cUxOem9rbllsTEliMWNCNnhMZ19ETzhZTGRQSjVacWtzYTBLN2FoQzkzY0UyV0cyd0V3dGVKT0xRY29HU2lpdURvcF9HQTgtWDF0SS0zcmd4QmZ2ZnJKa2tKZVpSaXdyMm5wZXhsblVLanlwV0E5UGNOdmNaYUdXa1E5dEx0cDF6WXhGVC1zbW8xMHFGQ0hrN1h5dkJLQlUxNlRoTWw5aFlqTnk5Q21ZZHhxd0JSeUFGMi02ajgyRU1ENWJJYk9faS1aQnNkb2ZIeGJlZmx2anR3?oc=5&hl=en-CA&gl=CA&ceid=CA:en",
         "2023-01-30 08:00:00",
         "{'href': 'https://www.citizensforethics.org', 'title': 'Citizens for Responsibility and Ethics in Washington'}",
         "2023-01",
         "0.0",
         "0.0",
         "0.3612",
         "Citizens for Responsibility and Ethics in Washington"
        ],
        [
         "3",
         "Trump, after reported subpoena, defends keeping classified folders - Reuters",
         "Trump, after reported subpoena, defends keeping classified folders  Reuters",
         "https://news.google.com/rss/articles/CBMirgFBVV95cUxNMkxPaERpWWVYLTN2cU10VVkyQlVLYmFVb1lNbU9UbE1GVjZMWVlSbHh0YjJLVTBHYTBSQ0tBZlhWQXpMdzlPcjV3Y3NRTTViQnBWRS1YUkZwNWhmRlU2TDItbE90cmhjOHN3RGhVNUI2WGlwdUloYWJPdnRBZ0lQZzUxMEQwVVU5WTFYTXhVeVE0ZlRaN0tienRLWXJPcmR6ZWlOWU0yMzVBcVlSUnc?oc=5&hl=en-CA&gl=CA&ceid=CA:en",
         "2023-02-14 08:00:00",
         "{'href': 'https://www.reuters.com', 'title': 'Reuters'}",
         "2023-02",
         "0.0",
         "0.0",
         "0.0",
         "Reuters"
        ],
        [
         "4",
         "Trump vows to 'stop' gender-affirming care for minors if re-elected president - NBC News",
         "Trump vows to 'stop' gender-affirming care for minors if re-elected president  NBC News",
         "https://news.google.com/rss/articles/CBMivwFBVV95cUxNbEU2TUtiVDlSMzVSVTJxbGpEUE8zNGRPVFZVQ0FKWjN5UVF1bjVsUVp0YlpRMU16UzlfZkxOZlVEbmhtZUx1UHVXTklOcDlacmNoMlRfTk1Obi1UN2pBQXoyZ2tiM1hWeXQ0Ql9xdjVveWV2WFdwSUhSa1ZhX1diWHZxX2Nsd1VYcl9OZ1ZZeEdOSUtsQkpub1o2STRHZ1VnTlFxVjlUMnRGLURON1ZDRUFmbFNpQV85X0NiTDhtd9IBVEFVX3lxTE1WWTR3SDRJTzZkNEdmWV9jNGh5d25kQS1UaDI5Ym9TbERsXzcwYWRWeVNOallESGgybW5hOTBWR2lBZG55MmlESW1ua3BhTjRnWS1CNg?oc=5&hl=en-CA&gl=CA&ceid=CA:en",
         "2023-01-31 08:00:00",
         "{'href': 'https://www.nbcnews.com', 'title': 'NBC News'}",
         "2023-01",
         "0.0",
         "0.0",
         "0.4939",
         "NBC News"
        ]
       ],
       "shape": {
        "columns": 10,
        "rows": 5
       }
      },
      "text/html": [
       "<div>\n",
       "<style scoped>\n",
       "    .dataframe tbody tr th:only-of-type {\n",
       "        vertical-align: middle;\n",
       "    }\n",
       "\n",
       "    .dataframe tbody tr th {\n",
       "        vertical-align: top;\n",
       "    }\n",
       "\n",
       "    .dataframe thead th {\n",
       "        text-align: right;\n",
       "    }\n",
       "</style>\n",
       "<table border=\"1\" class=\"dataframe\">\n",
       "  <thead>\n",
       "    <tr style=\"text-align: right;\">\n",
       "      <th></th>\n",
       "      <th>title</th>\n",
       "      <th>description</th>\n",
       "      <th>url</th>\n",
       "      <th>published_date</th>\n",
       "      <th>source</th>\n",
       "      <th>month</th>\n",
       "      <th>description_sentiment</th>\n",
       "      <th>sentiment</th>\n",
       "      <th>sentiment_score</th>\n",
       "      <th>news_source</th>\n",
       "    </tr>\n",
       "  </thead>\n",
       "  <tbody>\n",
       "    <tr>\n",
       "      <th>0</th>\n",
       "      <td>Trump’s Abuse of Recount Funds Shows the Need ...</td>\n",
       "      <td>Trump’s Abuse of Recount Funds Shows the Need ...</td>\n",
       "      <td>https://news.google.com/rss/articles/CBMikgFBV...</td>\n",
       "      <td>2023-01-31 08:00:00</td>\n",
       "      <td>{'href': 'https://campaignlegal.org', 'title':...</td>\n",
       "      <td>2023-01</td>\n",
       "      <td>0.066667</td>\n",
       "      <td>0.066667</td>\n",
       "      <td>-0.2732</td>\n",
       "      <td>Campaign Legal Center</td>\n",
       "    </tr>\n",
       "    <tr>\n",
       "      <th>1</th>\n",
       "      <td>Trump criticizes federal response to Ohio trai...</td>\n",
       "      <td>Trump criticizes federal response to Ohio trai...</td>\n",
       "      <td>https://news.google.com/rss/articles/CBMiugFBV...</td>\n",
       "      <td>2023-02-22 08:00:00</td>\n",
       "      <td>{'href': 'https://apnews.com', 'title': 'AP Ne...</td>\n",
       "      <td>2023-02</td>\n",
       "      <td>0.000000</td>\n",
       "      <td>0.000000</td>\n",
       "      <td>-0.3400</td>\n",
       "      <td>AP News</td>\n",
       "    </tr>\n",
       "    <tr>\n",
       "      <th>2</th>\n",
       "      <td>Fani Willis is likely going to indict Trump so...</td>\n",
       "      <td>Fani Willis is likely going to indict Trump so...</td>\n",
       "      <td>https://news.google.com/rss/articles/CBMi1gFBV...</td>\n",
       "      <td>2023-01-30 08:00:00</td>\n",
       "      <td>{'href': 'https://www.citizensforethics.org', ...</td>\n",
       "      <td>2023-01</td>\n",
       "      <td>0.000000</td>\n",
       "      <td>0.000000</td>\n",
       "      <td>0.3612</td>\n",
       "      <td>Citizens for Responsibility and Ethics in Wash...</td>\n",
       "    </tr>\n",
       "    <tr>\n",
       "      <th>3</th>\n",
       "      <td>Trump, after reported subpoena, defends keepin...</td>\n",
       "      <td>Trump, after reported subpoena, defends keepin...</td>\n",
       "      <td>https://news.google.com/rss/articles/CBMirgFBV...</td>\n",
       "      <td>2023-02-14 08:00:00</td>\n",
       "      <td>{'href': 'https://www.reuters.com', 'title': '...</td>\n",
       "      <td>2023-02</td>\n",
       "      <td>0.000000</td>\n",
       "      <td>0.000000</td>\n",
       "      <td>0.0000</td>\n",
       "      <td>Reuters</td>\n",
       "    </tr>\n",
       "    <tr>\n",
       "      <th>4</th>\n",
       "      <td>Trump vows to 'stop' gender-affirming care for...</td>\n",
       "      <td>Trump vows to 'stop' gender-affirming care for...</td>\n",
       "      <td>https://news.google.com/rss/articles/CBMivwFBV...</td>\n",
       "      <td>2023-01-31 08:00:00</td>\n",
       "      <td>{'href': 'https://www.nbcnews.com', 'title': '...</td>\n",
       "      <td>2023-01</td>\n",
       "      <td>0.000000</td>\n",
       "      <td>0.000000</td>\n",
       "      <td>0.4939</td>\n",
       "      <td>NBC News</td>\n",
       "    </tr>\n",
       "  </tbody>\n",
       "</table>\n",
       "</div>"
      ],
      "text/plain": [
       "                                               title  \\\n",
       "0  Trump’s Abuse of Recount Funds Shows the Need ...   \n",
       "1  Trump criticizes federal response to Ohio trai...   \n",
       "2  Fani Willis is likely going to indict Trump so...   \n",
       "3  Trump, after reported subpoena, defends keepin...   \n",
       "4  Trump vows to 'stop' gender-affirming care for...   \n",
       "\n",
       "                                         description  \\\n",
       "0  Trump’s Abuse of Recount Funds Shows the Need ...   \n",
       "1  Trump criticizes federal response to Ohio trai...   \n",
       "2  Fani Willis is likely going to indict Trump so...   \n",
       "3  Trump, after reported subpoena, defends keepin...   \n",
       "4  Trump vows to 'stop' gender-affirming care for...   \n",
       "\n",
       "                                                 url      published_date  \\\n",
       "0  https://news.google.com/rss/articles/CBMikgFBV... 2023-01-31 08:00:00   \n",
       "1  https://news.google.com/rss/articles/CBMiugFBV... 2023-02-22 08:00:00   \n",
       "2  https://news.google.com/rss/articles/CBMi1gFBV... 2023-01-30 08:00:00   \n",
       "3  https://news.google.com/rss/articles/CBMirgFBV... 2023-02-14 08:00:00   \n",
       "4  https://news.google.com/rss/articles/CBMivwFBV... 2023-01-31 08:00:00   \n",
       "\n",
       "                                              source    month  \\\n",
       "0  {'href': 'https://campaignlegal.org', 'title':...  2023-01   \n",
       "1  {'href': 'https://apnews.com', 'title': 'AP Ne...  2023-02   \n",
       "2  {'href': 'https://www.citizensforethics.org', ...  2023-01   \n",
       "3  {'href': 'https://www.reuters.com', 'title': '...  2023-02   \n",
       "4  {'href': 'https://www.nbcnews.com', 'title': '...  2023-01   \n",
       "\n",
       "   description_sentiment  sentiment  sentiment_score  \\\n",
       "0               0.066667   0.066667          -0.2732   \n",
       "1               0.000000   0.000000          -0.3400   \n",
       "2               0.000000   0.000000           0.3612   \n",
       "3               0.000000   0.000000           0.0000   \n",
       "4               0.000000   0.000000           0.4939   \n",
       "\n",
       "                                         news_source  \n",
       "0                              Campaign Legal Center  \n",
       "1                                            AP News  \n",
       "2  Citizens for Responsibility and Ethics in Wash...  \n",
       "3                                            Reuters  \n",
       "4                                           NBC News  "
      ]
     },
     "execution_count": 14,
     "metadata": {},
     "output_type": "execute_result"
    }
   ],
   "source": [
    "import ast\n",
    "\n",
    "# Convert the string to dict and extract 'title'\n",
    "df['news_source'] = df['source'].apply(lambda x: ast.literal_eval(x)['title'])\n",
    "\n",
    "df.head()"
   ]
  },
  {
   "cell_type": "code",
   "execution_count": 23,
   "id": "733910d0",
   "metadata": {
    "vscode": {
     "languageId": "ruby"
    }
   },
   "outputs": [
    {
     "data": {
      "application/vnd.microsoft.datawrangler.viewer.v0+json": {
       "columns": [
        {
         "name": "index",
         "rawType": "int64",
         "type": "integer"
        },
        {
         "name": "published_date",
         "rawType": "datetime64[ns]",
         "type": "datetime"
        },
        {
         "name": "sentiment_score",
         "rawType": "float64",
         "type": "float"
        }
       ],
       "conversionMethod": "pd.DataFrame",
       "ref": "d1b52d19-84ae-40fe-abe0-2051aca21b10",
       "rows": [
        [
         "0",
         "2023-01-31 08:00:00",
         "-0.2732"
        ],
        [
         "1",
         "2023-02-22 08:00:00",
         "-0.34"
        ],
        [
         "2",
         "2023-01-30 08:00:00",
         "0.3612"
        ],
        [
         "3",
         "2023-02-14 08:00:00",
         "0.0"
        ],
        [
         "4",
         "2023-01-31 08:00:00",
         "0.4939"
        ]
       ],
       "shape": {
        "columns": 2,
        "rows": 5
       }
      },
      "text/html": [
       "<div>\n",
       "<style scoped>\n",
       "    .dataframe tbody tr th:only-of-type {\n",
       "        vertical-align: middle;\n",
       "    }\n",
       "\n",
       "    .dataframe tbody tr th {\n",
       "        vertical-align: top;\n",
       "    }\n",
       "\n",
       "    .dataframe thead th {\n",
       "        text-align: right;\n",
       "    }\n",
       "</style>\n",
       "<table border=\"1\" class=\"dataframe\">\n",
       "  <thead>\n",
       "    <tr style=\"text-align: right;\">\n",
       "      <th></th>\n",
       "      <th>published_date</th>\n",
       "      <th>sentiment_score</th>\n",
       "    </tr>\n",
       "  </thead>\n",
       "  <tbody>\n",
       "    <tr>\n",
       "      <th>0</th>\n",
       "      <td>2023-01-31 08:00:00</td>\n",
       "      <td>-0.2732</td>\n",
       "    </tr>\n",
       "    <tr>\n",
       "      <th>1</th>\n",
       "      <td>2023-02-22 08:00:00</td>\n",
       "      <td>-0.3400</td>\n",
       "    </tr>\n",
       "    <tr>\n",
       "      <th>2</th>\n",
       "      <td>2023-01-30 08:00:00</td>\n",
       "      <td>0.3612</td>\n",
       "    </tr>\n",
       "    <tr>\n",
       "      <th>3</th>\n",
       "      <td>2023-02-14 08:00:00</td>\n",
       "      <td>0.0000</td>\n",
       "    </tr>\n",
       "    <tr>\n",
       "      <th>4</th>\n",
       "      <td>2023-01-31 08:00:00</td>\n",
       "      <td>0.4939</td>\n",
       "    </tr>\n",
       "  </tbody>\n",
       "</table>\n",
       "</div>"
      ],
      "text/plain": [
       "       published_date  sentiment_score\n",
       "0 2023-01-31 08:00:00          -0.2732\n",
       "1 2023-02-22 08:00:00          -0.3400\n",
       "2 2023-01-30 08:00:00           0.3612\n",
       "3 2023-02-14 08:00:00           0.0000\n",
       "4 2023-01-31 08:00:00           0.4939"
      ]
     },
     "execution_count": 23,
     "metadata": {},
     "output_type": "execute_result"
    }
   ],
   "source": [
    "# Create a new DataFrame with 'published_date' and 'sentiment_score' columns\n",
    "new_df = df[['published_date', 'sentiment_score']].copy()\n",
    "\n",
    "# Convert 'published_date' to datetime format \n",
    "new_df['published_date'] = pd.to_datetime(new_df['published_date'], format='%Y-%m-%d')\n",
    "\n",
    "# save the new DataFrame to a CSV file\n",
    "new_df.to_csv('sentiment_scores.csv', index=False)\n",
    "\n",
    "# Display the new DataFrame\n",
    "new_df.head()"
   ]
  }
 ],
 "metadata": {
  "kernelspec": {
   "display_name": ".venvp2",
   "language": "python",
   "name": "python3"
  },
  "language_info": {
   "codemirror_mode": {
    "name": "ipython",
    "version": 3
   },
   "file_extension": ".py",
   "mimetype": "text/x-python",
   "name": "python",
   "nbconvert_exporter": "python",
   "pygments_lexer": "ipython3",
   "version": "3.13.2"
  }
 },
 "nbformat": 4,
 "nbformat_minor": 5
}
