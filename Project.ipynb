{
 "cells": [
  {
   "cell_type": "markdown",
   "id": "1cc71b25-a848-4db6-9e55-1380802f1349",
   "metadata": {},
   "source": [
    "# Project\n",
    "- Resolver un Problema que no tenga solucion.\n",
    "\n",
    "## ENTREGAR\n",
    "-  CODIGO QUE SERA ESTE DOCUMENTO BIEN DOCUMENTADO.  Que sea leible. \n",
    "-  PPT\n",
    "-  VIDEO\n"
   ]
  },
  {
   "cell_type": "code",
   "execution_count": 1,
   "id": "bdecd2c4-3f7a-43e5-bc81-d8d225c5b5e2",
   "metadata": {},
   "outputs": [
    {
     "name": "stdout",
     "output_type": "stream",
     "text": [
      "ESTE ES EL PROYECTO DE ROBERTO Y CARLOS\n"
     ]
    }
   ],
   "source": [
    "print(\"ESTE ES EL PROYECTO DE ROBERTO Y CARLOS\")\n"
   ]
  },
  {
   "cell_type": "code",
   "execution_count": 1,
   "id": "41e4e3e7-b96d-42d2-bcc0-9b521049ec9e",
   "metadata": {},
   "outputs": [
    {
     "name": "stdout",
     "output_type": "stream",
     "text": [
      "Hola Mundo\n"
     ]
    }
   ],
   "source": [
    "print (\"Hola Mundo\")"
   ]
  }
 ],
 "metadata": {
  "kernelspec": {
   "display_name": ".venv",
   "language": "python",
   "name": "python3"
  },
  "language_info": {
   "codemirror_mode": {
    "name": "ipython",
    "version": 3
   },
   "file_extension": ".py",
   "mimetype": "text/x-python",
   "name": "python",
   "nbconvert_exporter": "python",
   "pygments_lexer": "ipython3",
   "version": "3.13.2"
  }
 },
 "nbformat": 4,
 "nbformat_minor": 5
}
