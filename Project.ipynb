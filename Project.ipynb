{
 "cells": [
  {
   "cell_type": "markdown",
   "id": "1cc71b25-a848-4db6-9e55-1380802f1349",
   "metadata": {},
   "source": [
    "# Project\n",
    "- Resolver un Problema que no tenga solucion.\n",
    "\n",
    "## ENTREGAR\n",
    "-  CODIGO QUE SERA ESTE DOCUMENTO BIEN DOCUMENTADO.  Que sea leible. \n",
    "-  PPT\n",
    "-  VIDEO\n"
   ]
  },
  {
   "cell_type": "code",
   "execution_count": 3,
   "id": "6a38db30",
   "metadata": {},
   "outputs": [],
   "source": [
    "import pandas as pd"
   ]
  },
  {
   "cell_type": "code",
   "execution_count": 5,
   "id": "3fb8172b",
   "metadata": {},
   "outputs": [
    {
     "name": "stdout",
     "output_type": "stream",
     "text": [
      "===== Column names and data types =====\n",
      "Open               float64\n",
      "High               float64\n",
      "Low                float64\n",
      "Close              float64\n",
      "Volume               int64\n",
      "Dividends          float64\n",
      "Stock Splits       float64\n",
      "RSI                float64\n",
      "MACD               float64\n",
      "MACD_Signal        float64\n",
      "Bollinger_Width    float64\n",
      "MFI                float64\n",
      "EMA_20             float64\n",
      "dtype: object\n"
     ]
    }
   ],
   "source": [
    "print(\"===== Column names and data types =====\")\n",
    "print(data.dtypes)"
   ]
  },
  {
   "cell_type": "code",
   "execution_count": null,
   "id": "aa50d67e",
   "metadata": {},
   "outputs": [],
   "source": []
  },
  {
   "cell_type": "code",
   "execution_count": 1,
   "id": "41e4e3e7-b96d-42d2-bcc0-9b521049ec9e",
   "metadata": {},
   "outputs": [
    {
     "ename": "NameError",
     "evalue": "name 'pd' is not defined",
     "output_type": "error",
     "traceback": [
      "\u001b[31m---------------------------------------------------------------------------\u001b[39m",
      "\u001b[31mNameError\u001b[39m                                 Traceback (most recent call last)",
      "\u001b[36mCell\u001b[39m\u001b[36m \u001b[39m\u001b[32mIn[1]\u001b[39m\u001b[32m, line 4\u001b[39m\n\u001b[32m      1\u001b[39m \u001b[38;5;66;03m# ===============================\u001b[39;00m\n\u001b[32m      2\u001b[39m \u001b[38;5;66;03m# Load the saved CSV\u001b[39;00m\n\u001b[32m      3\u001b[39m \u001b[38;5;66;03m# ===============================\u001b[39;00m\n\u001b[32m----> \u001b[39m\u001b[32m4\u001b[39m data = \u001b[43mpd\u001b[49m.read_csv(\u001b[33m'\u001b[39m\u001b[33mnasdaq_data.csv\u001b[39m\u001b[33m'\u001b[39m, parse_dates=[\u001b[33m'\u001b[39m\u001b[33mDate\u001b[39m\u001b[33m'\u001b[39m], index_col=\u001b[33m'\u001b[39m\u001b[33mDate\u001b[39m\u001b[33m'\u001b[39m)\n\u001b[32m      6\u001b[39m \u001b[38;5;66;03m# ===============================\u001b[39;00m\n\u001b[32m      7\u001b[39m \u001b[38;5;66;03m# Display the first 5 rows\u001b[39;00m\n\u001b[32m      8\u001b[39m \u001b[38;5;66;03m# ===============================\u001b[39;00m\n\u001b[32m      9\u001b[39m \u001b[38;5;28mprint\u001b[39m(\u001b[33m\"\u001b[39m\u001b[33m===== Head of the dataset =====\u001b[39m\u001b[33m\"\u001b[39m)\n",
      "\u001b[31mNameError\u001b[39m: name 'pd' is not defined"
     ]
    }
   ],
   "source": [
    "# ===============================\n",
    "# Load the saved CSV\n",
    "# ===============================\n",
    "data = pd.read_csv('nasdaq_data.csv', parse_dates=['Date'], index_col='Date')\n",
    "\n",
    "# ===============================\n",
    "# Display the first 5 rows\n",
    "# ===============================\n",
    "print(\"===== Head of the dataset =====\")\n",
    "print(data.head())\n",
    "\n",
    "# ===============================\n",
    "# Display descriptive statistics\n",
    "# ===============================\n",
    "print(\"\\n===== Descriptive statistics =====\")\n",
    "print(data.describe())"
   ]
  }
 ],
 "metadata": {
  "kernelspec": {
   "display_name": ".venv",
   "language": "python",
   "name": "python3"
  },
  "language_info": {
   "codemirror_mode": {
    "name": "ipython",
    "version": 3
   },
   "file_extension": ".py",
   "mimetype": "text/x-python",
   "name": "python",
   "nbconvert_exporter": "python",
   "pygments_lexer": "ipython3",
   "version": "3.13.2"
  }
 },
 "nbformat": 4,
 "nbformat_minor": 5
}
